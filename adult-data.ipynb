{
 "cells": [
  {
   "cell_type": "code",
   "execution_count": 93,
   "id": "104d445d",
   "metadata": {},
   "outputs": [],
   "source": [
    "import numpy as np\n",
    "import pandas as pd\n",
    "#think before removing data - cant just chuck it because it doesnt help"
   ]
  },
  {
   "cell_type": "markdown",
   "id": "a92f9d38",
   "metadata": {},
   "source": [
    "Problem: Given features predict income"
   ]
  },
  {
   "cell_type": "markdown",
   "id": "29b75978",
   "metadata": {},
   "source": [
    "Exploratory Data Analysis:\n",
    ". description states that missing values in this data set are denoted with a '?'; so parse NaN = ?\n",
    ". since theres no header in the dataset itself, it shouldnt be generated from one of the rows"
   ]
  },
  {
   "cell_type": "code",
   "execution_count": 94,
   "id": "9905c566",
   "metadata": {},
   "outputs": [
    {
     "data": {
      "text/html": [
       "<div>\n",
       "<style scoped>\n",
       "    .dataframe tbody tr th:only-of-type {\n",
       "        vertical-align: middle;\n",
       "    }\n",
       "\n",
       "    .dataframe tbody tr th {\n",
       "        vertical-align: top;\n",
       "    }\n",
       "\n",
       "    .dataframe thead th {\n",
       "        text-align: right;\n",
       "    }\n",
       "</style>\n",
       "<table border=\"1\" class=\"dataframe\">\n",
       "  <thead>\n",
       "    <tr style=\"text-align: right;\">\n",
       "      <th></th>\n",
       "      <th>0</th>\n",
       "      <th>1</th>\n",
       "      <th>2</th>\n",
       "      <th>3</th>\n",
       "      <th>4</th>\n",
       "      <th>5</th>\n",
       "      <th>6</th>\n",
       "      <th>7</th>\n",
       "      <th>8</th>\n",
       "      <th>9</th>\n",
       "      <th>10</th>\n",
       "      <th>11</th>\n",
       "      <th>12</th>\n",
       "      <th>13</th>\n",
       "      <th>14</th>\n",
       "    </tr>\n",
       "  </thead>\n",
       "  <tbody>\n",
       "    <tr>\n",
       "      <th>0</th>\n",
       "      <td>39</td>\n",
       "      <td>State-gov</td>\n",
       "      <td>77516</td>\n",
       "      <td>Bachelors</td>\n",
       "      <td>13</td>\n",
       "      <td>Never-married</td>\n",
       "      <td>Adm-clerical</td>\n",
       "      <td>Not-in-family</td>\n",
       "      <td>White</td>\n",
       "      <td>Male</td>\n",
       "      <td>2174</td>\n",
       "      <td>0</td>\n",
       "      <td>40</td>\n",
       "      <td>United-States</td>\n",
       "      <td>&lt;=50K</td>\n",
       "    </tr>\n",
       "    <tr>\n",
       "      <th>1</th>\n",
       "      <td>50</td>\n",
       "      <td>Self-emp-not-inc</td>\n",
       "      <td>83311</td>\n",
       "      <td>Bachelors</td>\n",
       "      <td>13</td>\n",
       "      <td>Married-civ-spouse</td>\n",
       "      <td>Exec-managerial</td>\n",
       "      <td>Husband</td>\n",
       "      <td>White</td>\n",
       "      <td>Male</td>\n",
       "      <td>0</td>\n",
       "      <td>0</td>\n",
       "      <td>13</td>\n",
       "      <td>United-States</td>\n",
       "      <td>&lt;=50K</td>\n",
       "    </tr>\n",
       "    <tr>\n",
       "      <th>2</th>\n",
       "      <td>38</td>\n",
       "      <td>Private</td>\n",
       "      <td>215646</td>\n",
       "      <td>HS-grad</td>\n",
       "      <td>9</td>\n",
       "      <td>Divorced</td>\n",
       "      <td>Handlers-cleaners</td>\n",
       "      <td>Not-in-family</td>\n",
       "      <td>White</td>\n",
       "      <td>Male</td>\n",
       "      <td>0</td>\n",
       "      <td>0</td>\n",
       "      <td>40</td>\n",
       "      <td>United-States</td>\n",
       "      <td>&lt;=50K</td>\n",
       "    </tr>\n",
       "    <tr>\n",
       "      <th>3</th>\n",
       "      <td>53</td>\n",
       "      <td>Private</td>\n",
       "      <td>234721</td>\n",
       "      <td>11th</td>\n",
       "      <td>7</td>\n",
       "      <td>Married-civ-spouse</td>\n",
       "      <td>Handlers-cleaners</td>\n",
       "      <td>Husband</td>\n",
       "      <td>Black</td>\n",
       "      <td>Male</td>\n",
       "      <td>0</td>\n",
       "      <td>0</td>\n",
       "      <td>40</td>\n",
       "      <td>United-States</td>\n",
       "      <td>&lt;=50K</td>\n",
       "    </tr>\n",
       "    <tr>\n",
       "      <th>4</th>\n",
       "      <td>28</td>\n",
       "      <td>Private</td>\n",
       "      <td>338409</td>\n",
       "      <td>Bachelors</td>\n",
       "      <td>13</td>\n",
       "      <td>Married-civ-spouse</td>\n",
       "      <td>Prof-specialty</td>\n",
       "      <td>Wife</td>\n",
       "      <td>Black</td>\n",
       "      <td>Female</td>\n",
       "      <td>0</td>\n",
       "      <td>0</td>\n",
       "      <td>40</td>\n",
       "      <td>Cuba</td>\n",
       "      <td>&lt;=50K</td>\n",
       "    </tr>\n",
       "  </tbody>\n",
       "</table>\n",
       "</div>"
      ],
      "text/plain": [
       "   0                 1       2          3   4                   5   \\\n",
       "0  39         State-gov   77516  Bachelors  13       Never-married   \n",
       "1  50  Self-emp-not-inc   83311  Bachelors  13  Married-civ-spouse   \n",
       "2  38           Private  215646    HS-grad   9            Divorced   \n",
       "3  53           Private  234721       11th   7  Married-civ-spouse   \n",
       "4  28           Private  338409  Bachelors  13  Married-civ-spouse   \n",
       "\n",
       "                  6              7      8       9     10  11  12  \\\n",
       "0       Adm-clerical  Not-in-family  White    Male  2174   0  40   \n",
       "1    Exec-managerial        Husband  White    Male     0   0  13   \n",
       "2  Handlers-cleaners  Not-in-family  White    Male     0   0  40   \n",
       "3  Handlers-cleaners        Husband  Black    Male     0   0  40   \n",
       "4     Prof-specialty           Wife  Black  Female     0   0  40   \n",
       "\n",
       "              13     14  \n",
       "0  United-States  <=50K  \n",
       "1  United-States  <=50K  \n",
       "2  United-States  <=50K  \n",
       "3  United-States  <=50K  \n",
       "4           Cuba  <=50K  "
      ]
     },
     "execution_count": 94,
     "metadata": {},
     "output_type": "execute_result"
    }
   ],
   "source": [
    "adult_dataframe = pd.read_csv(\"data/complete-adult.csv\",na_values='?',header=None)\n",
    "adult_dataframe.head()\n"
   ]
  },
  {
   "cell_type": "code",
   "execution_count": 95,
   "id": "f5537b9a",
   "metadata": {},
   "outputs": [],
   "source": [
    "adult_dataframe.shape\n",
    "#for more meaningful column names\n",
    "cols = [\"age\",\"work class\",\"final weight\",\"education\",\"education years\",\"marital status\",\"occupation\",\"relationship in family\",\"race\",\"sex\",\"capital gain\",\"capital loss\",\"weekly hours\",\"native country\",\"income\"]\n",
    "adult_dataframe.columns = cols"
   ]
  },
  {
   "cell_type": "markdown",
   "id": "25952490",
   "metadata": {},
   "source": [
    "checking income distribution:"
   ]
  },
  {
   "cell_type": "code",
   "execution_count": 96,
   "id": "439cfe9b",
   "metadata": {},
   "outputs": [
    {
     "name": "stdout",
     "output_type": "stream",
     "text": [
      "76.07182343065395 % 23.928176569346054 %\n"
     ]
    }
   ],
   "source": [
    "def check_income_distribution(df):\n",
    "    above_50_counter = 0\n",
    "    below_50_counter = 0\n",
    "\n",
    "    for income in df[\"income\"]:\n",
    "        if income == \"<=50K\":\n",
    "            below_50_counter+=1\n",
    "        elif income == \">50K\":\n",
    "            above_50_counter+=1\n",
    "    #check if something faster than for loop exists\n",
    "    print(below_50_counter/df.shape[0]*100,\"%\",above_50_counter/df.shape[0]*100,\"%\")\n",
    "check_income_distribution(adult_dataframe)"
   ]
  },
  {
   "cell_type": "markdown",
   "id": "a667961a",
   "metadata": {},
   "source": [
    "sources of dirty values: it contain lot's of outlier, missing value, or others intentionly wrong filling. \n",
    "dealing with missing values:"
   ]
  },
  {
   "cell_type": "code",
   "execution_count": 97,
   "id": "023e23a1",
   "metadata": {},
   "outputs": [
    {
     "data": {
      "text/plain": [
       "age                          0\n",
       "work class                2799\n",
       "final weight                 0\n",
       "education                    0\n",
       "education years              0\n",
       "marital status               0\n",
       "occupation                2809\n",
       "relationship in family       0\n",
       "race                         0\n",
       "sex                          0\n",
       "capital gain                 0\n",
       "capital loss                 0\n",
       "weekly hours                 0\n",
       "native country             857\n",
       "income                       0\n",
       "dtype: int64"
      ]
     },
     "execution_count": 97,
     "metadata": {},
     "output_type": "execute_result"
    }
   ],
   "source": [
    "adult_dataframe.isna().sum()\n",
    "# no_of_na/adult_dataframe.shape[0]*100\n"
   ]
  },
  {
   "cell_type": "code",
   "execution_count": 98,
   "id": "d7692a85",
   "metadata": {},
   "outputs": [
    {
     "name": "stdout",
     "output_type": "stream",
     "text": [
      "<class 'pandas.core.frame.DataFrame'>\n",
      "RangeIndex: 48842 entries, 0 to 48841\n",
      "Data columns (total 15 columns):\n",
      " #   Column                  Non-Null Count  Dtype \n",
      "---  ------                  --------------  ----- \n",
      " 0   age                     48842 non-null  int64 \n",
      " 1   work class              46043 non-null  object\n",
      " 2   final weight            48842 non-null  int64 \n",
      " 3   education               48842 non-null  object\n",
      " 4   education years         48842 non-null  int64 \n",
      " 5   marital status          48842 non-null  object\n",
      " 6   occupation              46033 non-null  object\n",
      " 7   relationship in family  48842 non-null  object\n",
      " 8   race                    48842 non-null  object\n",
      " 9   sex                     48842 non-null  object\n",
      " 10  capital gain            48842 non-null  int64 \n",
      " 11  capital loss            48842 non-null  int64 \n",
      " 12  weekly hours            48842 non-null  int64 \n",
      " 13  native country          47985 non-null  object\n",
      " 14  income                  48842 non-null  object\n",
      "dtypes: int64(6), object(9)\n",
      "memory usage: 5.6+ MB\n"
     ]
    },
    {
     "data": {
      "text/plain": [
       "(48842, 15)"
      ]
     },
     "execution_count": 98,
     "metadata": {},
     "output_type": "execute_result"
    }
   ],
   "source": [
    "adult_dataframe.info()\n",
    "adult_dataframe.shape"
   ]
  },
  {
   "cell_type": "markdown",
   "id": "10a4697f",
   "metadata": {},
   "source": [
    "since its not a lot of rows with unknown values, we'll drop them for now, but will keep in mind that the work class and occupation unknowns seem to be related? also should be remove nan or replace with average/most_frequent?"
   ]
  },
  {
   "cell_type": "code",
   "execution_count": 99,
   "id": "4b42b437",
   "metadata": {},
   "outputs": [
    {
     "data": {
      "text/plain": [
       "(45222, 15)"
      ]
     },
     "execution_count": 99,
     "metadata": {},
     "output_type": "execute_result"
    }
   ],
   "source": [
    "adult_df_nadrop = adult_dataframe.dropna() #this is the easiedt way to deal with it for now - if final classification is not >85 at end we can NOT do this\n",
    "adult_df_nadrop.shape"
   ]
  },
  {
   "cell_type": "code",
   "execution_count": 100,
   "id": "c03b4988",
   "metadata": {},
   "outputs": [
    {
     "data": {
      "text/html": [
       "<div>\n",
       "<style scoped>\n",
       "    .dataframe tbody tr th:only-of-type {\n",
       "        vertical-align: middle;\n",
       "    }\n",
       "\n",
       "    .dataframe tbody tr th {\n",
       "        vertical-align: top;\n",
       "    }\n",
       "\n",
       "    .dataframe thead th {\n",
       "        text-align: right;\n",
       "    }\n",
       "</style>\n",
       "<table border=\"1\" class=\"dataframe\">\n",
       "  <thead>\n",
       "    <tr style=\"text-align: right;\">\n",
       "      <th></th>\n",
       "      <th>age</th>\n",
       "      <th>work class</th>\n",
       "      <th>final weight</th>\n",
       "      <th>education</th>\n",
       "      <th>education years</th>\n",
       "      <th>marital status</th>\n",
       "      <th>occupation</th>\n",
       "      <th>relationship in family</th>\n",
       "      <th>race</th>\n",
       "      <th>sex</th>\n",
       "      <th>capital gain</th>\n",
       "      <th>capital loss</th>\n",
       "      <th>weekly hours</th>\n",
       "      <th>native country</th>\n",
       "      <th>income</th>\n",
       "    </tr>\n",
       "  </thead>\n",
       "  <tbody>\n",
       "    <tr>\n",
       "      <th>0</th>\n",
       "      <td>39</td>\n",
       "      <td>State-gov</td>\n",
       "      <td>77516</td>\n",
       "      <td>Bachelors</td>\n",
       "      <td>13</td>\n",
       "      <td>Never-married</td>\n",
       "      <td>Adm-clerical</td>\n",
       "      <td>Not-in-family</td>\n",
       "      <td>White</td>\n",
       "      <td>Male</td>\n",
       "      <td>2174</td>\n",
       "      <td>0</td>\n",
       "      <td>40</td>\n",
       "      <td>United-States</td>\n",
       "      <td>&lt;=50K</td>\n",
       "    </tr>\n",
       "    <tr>\n",
       "      <th>1</th>\n",
       "      <td>50</td>\n",
       "      <td>Self-emp-not-inc</td>\n",
       "      <td>83311</td>\n",
       "      <td>Bachelors</td>\n",
       "      <td>13</td>\n",
       "      <td>Married-civ-spouse</td>\n",
       "      <td>Exec-managerial</td>\n",
       "      <td>Husband</td>\n",
       "      <td>White</td>\n",
       "      <td>Male</td>\n",
       "      <td>0</td>\n",
       "      <td>0</td>\n",
       "      <td>13</td>\n",
       "      <td>United-States</td>\n",
       "      <td>&lt;=50K</td>\n",
       "    </tr>\n",
       "    <tr>\n",
       "      <th>2</th>\n",
       "      <td>38</td>\n",
       "      <td>Private</td>\n",
       "      <td>215646</td>\n",
       "      <td>HS-grad</td>\n",
       "      <td>9</td>\n",
       "      <td>Divorced</td>\n",
       "      <td>Handlers-cleaners</td>\n",
       "      <td>Not-in-family</td>\n",
       "      <td>White</td>\n",
       "      <td>Male</td>\n",
       "      <td>0</td>\n",
       "      <td>0</td>\n",
       "      <td>40</td>\n",
       "      <td>United-States</td>\n",
       "      <td>&lt;=50K</td>\n",
       "    </tr>\n",
       "    <tr>\n",
       "      <th>3</th>\n",
       "      <td>53</td>\n",
       "      <td>Private</td>\n",
       "      <td>234721</td>\n",
       "      <td>11th</td>\n",
       "      <td>7</td>\n",
       "      <td>Married-civ-spouse</td>\n",
       "      <td>Handlers-cleaners</td>\n",
       "      <td>Husband</td>\n",
       "      <td>Black</td>\n",
       "      <td>Male</td>\n",
       "      <td>0</td>\n",
       "      <td>0</td>\n",
       "      <td>40</td>\n",
       "      <td>United-States</td>\n",
       "      <td>&lt;=50K</td>\n",
       "    </tr>\n",
       "    <tr>\n",
       "      <th>4</th>\n",
       "      <td>28</td>\n",
       "      <td>Private</td>\n",
       "      <td>338409</td>\n",
       "      <td>Bachelors</td>\n",
       "      <td>13</td>\n",
       "      <td>Married-civ-spouse</td>\n",
       "      <td>Prof-specialty</td>\n",
       "      <td>Wife</td>\n",
       "      <td>Black</td>\n",
       "      <td>Female</td>\n",
       "      <td>0</td>\n",
       "      <td>0</td>\n",
       "      <td>40</td>\n",
       "      <td>Cuba</td>\n",
       "      <td>&lt;=50K</td>\n",
       "    </tr>\n",
       "  </tbody>\n",
       "</table>\n",
       "</div>"
      ],
      "text/plain": [
       "   age        work class  final weight  education  education years  \\\n",
       "0   39         State-gov         77516  Bachelors               13   \n",
       "1   50  Self-emp-not-inc         83311  Bachelors               13   \n",
       "2   38           Private        215646    HS-grad                9   \n",
       "3   53           Private        234721       11th                7   \n",
       "4   28           Private        338409  Bachelors               13   \n",
       "\n",
       "       marital status         occupation relationship in family   race  \\\n",
       "0       Never-married       Adm-clerical          Not-in-family  White   \n",
       "1  Married-civ-spouse    Exec-managerial                Husband  White   \n",
       "2            Divorced  Handlers-cleaners          Not-in-family  White   \n",
       "3  Married-civ-spouse  Handlers-cleaners                Husband  Black   \n",
       "4  Married-civ-spouse     Prof-specialty                   Wife  Black   \n",
       "\n",
       "      sex  capital gain  capital loss  weekly hours native country income  \n",
       "0    Male          2174             0            40  United-States  <=50K  \n",
       "1    Male             0             0            13  United-States  <=50K  \n",
       "2    Male             0             0            40  United-States  <=50K  \n",
       "3    Male             0             0            40  United-States  <=50K  \n",
       "4  Female             0             0            40           Cuba  <=50K  "
      ]
     },
     "execution_count": 100,
     "metadata": {},
     "output_type": "execute_result"
    }
   ],
   "source": [
    "adult_df_nadrop.head()"
   ]
  },
  {
   "cell_type": "code",
   "execution_count": 101,
   "id": "7e8a97a7",
   "metadata": {},
   "outputs": [
    {
     "name": "stdout",
     "output_type": "stream",
     "text": [
      "75.21560302507629 % 24.78439697492371 %\n"
     ]
    }
   ],
   "source": [
    "check_income_distribution(adult_df_nadrop)"
   ]
  },
  {
   "cell_type": "markdown",
   "id": "4737cc07",
   "metadata": {},
   "source": [
    "outliers:"
   ]
  },
  {
   "cell_type": "code",
   "execution_count": 102,
   "id": "0ae83d5c",
   "metadata": {},
   "outputs": [
    {
     "data": {
      "text/html": [
       "<div>\n",
       "<style scoped>\n",
       "    .dataframe tbody tr th:only-of-type {\n",
       "        vertical-align: middle;\n",
       "    }\n",
       "\n",
       "    .dataframe tbody tr th {\n",
       "        vertical-align: top;\n",
       "    }\n",
       "\n",
       "    .dataframe thead th {\n",
       "        text-align: right;\n",
       "    }\n",
       "</style>\n",
       "<table border=\"1\" class=\"dataframe\">\n",
       "  <thead>\n",
       "    <tr style=\"text-align: right;\">\n",
       "      <th></th>\n",
       "      <th>age</th>\n",
       "      <th>final weight</th>\n",
       "      <th>education years</th>\n",
       "      <th>capital gain</th>\n",
       "      <th>capital loss</th>\n",
       "      <th>weekly hours</th>\n",
       "    </tr>\n",
       "  </thead>\n",
       "  <tbody>\n",
       "    <tr>\n",
       "      <th>count</th>\n",
       "      <td>45222.000000</td>\n",
       "      <td>4.522200e+04</td>\n",
       "      <td>45222.000000</td>\n",
       "      <td>45222.000000</td>\n",
       "      <td>45222.000000</td>\n",
       "      <td>45222.000000</td>\n",
       "    </tr>\n",
       "    <tr>\n",
       "      <th>mean</th>\n",
       "      <td>38.547941</td>\n",
       "      <td>1.897347e+05</td>\n",
       "      <td>10.118460</td>\n",
       "      <td>1101.430344</td>\n",
       "      <td>88.595418</td>\n",
       "      <td>40.938017</td>\n",
       "    </tr>\n",
       "    <tr>\n",
       "      <th>std</th>\n",
       "      <td>13.217870</td>\n",
       "      <td>1.056392e+05</td>\n",
       "      <td>2.552881</td>\n",
       "      <td>7506.430084</td>\n",
       "      <td>404.956092</td>\n",
       "      <td>12.007508</td>\n",
       "    </tr>\n",
       "    <tr>\n",
       "      <th>min</th>\n",
       "      <td>17.000000</td>\n",
       "      <td>1.349200e+04</td>\n",
       "      <td>1.000000</td>\n",
       "      <td>0.000000</td>\n",
       "      <td>0.000000</td>\n",
       "      <td>1.000000</td>\n",
       "    </tr>\n",
       "    <tr>\n",
       "      <th>25%</th>\n",
       "      <td>28.000000</td>\n",
       "      <td>1.173882e+05</td>\n",
       "      <td>9.000000</td>\n",
       "      <td>0.000000</td>\n",
       "      <td>0.000000</td>\n",
       "      <td>40.000000</td>\n",
       "    </tr>\n",
       "    <tr>\n",
       "      <th>50%</th>\n",
       "      <td>37.000000</td>\n",
       "      <td>1.783160e+05</td>\n",
       "      <td>10.000000</td>\n",
       "      <td>0.000000</td>\n",
       "      <td>0.000000</td>\n",
       "      <td>40.000000</td>\n",
       "    </tr>\n",
       "    <tr>\n",
       "      <th>75%</th>\n",
       "      <td>47.000000</td>\n",
       "      <td>2.379260e+05</td>\n",
       "      <td>13.000000</td>\n",
       "      <td>0.000000</td>\n",
       "      <td>0.000000</td>\n",
       "      <td>45.000000</td>\n",
       "    </tr>\n",
       "    <tr>\n",
       "      <th>max</th>\n",
       "      <td>90.000000</td>\n",
       "      <td>1.490400e+06</td>\n",
       "      <td>16.000000</td>\n",
       "      <td>99999.000000</td>\n",
       "      <td>4356.000000</td>\n",
       "      <td>99.000000</td>\n",
       "    </tr>\n",
       "  </tbody>\n",
       "</table>\n",
       "</div>"
      ],
      "text/plain": [
       "                age  final weight  education years  capital gain  \\\n",
       "count  45222.000000  4.522200e+04     45222.000000  45222.000000   \n",
       "mean      38.547941  1.897347e+05        10.118460   1101.430344   \n",
       "std       13.217870  1.056392e+05         2.552881   7506.430084   \n",
       "min       17.000000  1.349200e+04         1.000000      0.000000   \n",
       "25%       28.000000  1.173882e+05         9.000000      0.000000   \n",
       "50%       37.000000  1.783160e+05        10.000000      0.000000   \n",
       "75%       47.000000  2.379260e+05        13.000000      0.000000   \n",
       "max       90.000000  1.490400e+06        16.000000  99999.000000   \n",
       "\n",
       "       capital loss  weekly hours  \n",
       "count  45222.000000  45222.000000  \n",
       "mean      88.595418     40.938017  \n",
       "std      404.956092     12.007508  \n",
       "min        0.000000      1.000000  \n",
       "25%        0.000000     40.000000  \n",
       "50%        0.000000     40.000000  \n",
       "75%        0.000000     45.000000  \n",
       "max     4356.000000     99.000000  "
      ]
     },
     "execution_count": 102,
     "metadata": {},
     "output_type": "execute_result"
    }
   ],
   "source": [
    "adult_numerical_df = adult_df_nadrop.select_dtypes(include=['int64', 'float64'])\n",
    "#using statisticalk techniques to find extremes in data\n",
    "adult_numerical_df.describe()"
   ]
  },
  {
   "cell_type": "markdown",
   "id": "26edf74f",
   "metadata": {},
   "source": [
    "99999 capital gain, along with 99 weekly hours seems a bit off, so i want to inspect them a bit further"
   ]
  },
  {
   "cell_type": "code",
   "execution_count": 103,
   "id": "49ce19bd",
   "metadata": {},
   "outputs": [
    {
     "name": "stdout",
     "output_type": "stream",
     "text": [
      "229\n",
      "148\n"
     ]
    }
   ],
   "source": [
    "# for index,row in adult_df_nadrop.iterrows():\n",
    "#     if row[\"capital gain\"] == 99999 or row[\"weekly hours\"] == 99:\n",
    "#         print(row)\n",
    "\n",
    "print(adult_df_nadrop[adult_df_nadrop[\"capital gain\"] > 50000].shape[0])\n",
    "#the capital gain certainly doesnt make a lot of sense as theres no data between 50-100k except the 229 values at 99k\n",
    "print(adult_df_nadrop[adult_df_nadrop[\"weekly hours\"] > 95].shape[0])\n",
    "#this could be valid as there are other people in that range who also work what may seem like a ridiculous number of hours. thus it would be unwise to remove them\n",
    "# adult_df_avg_calc = [if record for record in adult_df[\"capital gain\"] ]\n",
    "adult_df_avg_calc = adult_df_nadrop[ adult_df_nadrop[\"capital gain\"] < 99000 ]\n",
    "cap_gain_mean_without_extreme = adult_df_avg_calc[\"capital gain\"].mean() \n",
    "adult_df_nadrop[\"capital gain\"].replace(99000, cap_gain_mean_without_extreme, inplace=True) #alternative to replace\n",
    "adult_df = adult_df_nadrop\n",
    "\n",
    "\n",
    "\n"
   ]
  },
  {
   "cell_type": "markdown",
   "id": "80ff22db",
   "metadata": {},
   "source": [
    "removing records without pay or never wrked - description also says that theres people without pay and never worked, and sincd they have (almost) no income, although theyd be classified under 50k, thats not very meaningful"
   ]
  },
  {
   "cell_type": "code",
   "execution_count": 104,
   "id": "79f3856e",
   "metadata": {},
   "outputs": [
    {
     "name": "stdout",
     "output_type": "stream",
     "text": [
      "45222\n",
      "45201\n",
      "45201\n"
     ]
    }
   ],
   "source": [
    "print(adult_df.shape[0])\n",
    "adult_df = adult_df[ adult_df[\"work class\"] != \"Without-pay\"  ]\n",
    "print(adult_df.shape[0])\n",
    "#that removed abut 20 recrds\n",
    "adult_df = adult_df[ adult_df[\"work class\"] != \"Never-worked\" ]\n",
    "print(adult_df.shape[0])\n"
   ]
  },
  {
   "cell_type": "markdown",
   "id": "9fdb8595",
   "metadata": {},
   "source": [
    "combine categories "
   ]
  },
  {
   "cell_type": "markdown",
   "id": "29d72397",
   "metadata": {},
   "source": [
    "cmbine Federal-gov, Local-gov, State-gov  toi just gov?\n",
    "\n",
    "cmbine grades to primary middklke high vocationalk and the rest?\n",
    "Preschool 1st-4th 5th-6th 7th-8th 9th 10th 11th 12th HS-grad  Assoc-acdm, Assoc-voc, Some-college Prof-school Bachelors Masters Doctorate\n",
    "\n",
    "note: just pre school is equivalkent to no formalk educatin"
   ]
  },
  {
   "cell_type": "code",
   "execution_count": 105,
   "id": "ddea021e",
   "metadata": {},
   "outputs": [],
   "source": [
    "combine_gov = [\"Federal-gov\", \"Local-gov\", \"State-gov\"]\n",
    "primary = [\"1st-4th\", \"5th-6th\"]\n",
    "middle = [\"7th-8th\", \"9th\"]\n",
    "high = [\"10th\", \"11th\", \"12th\", \"HS-grad\"]\n",
    "mbohbo = [\"Assoc-acdm\", \"Assoc-voc\", \"Some-college\", \"Prof-school\"]\n",
    "\n",
    "#Since inplace argument is available, you don't need to copy and assign the original data frame back to itself\n",
    "for gov_job in combine_gov:\n",
    "    adult_df['work class'].replace(gov_job, \"government\", inplace=True)\n",
    "# adult_df[ adult_df[\"work class\"] == \"Federal-gov\" ].shape[0]\n",
    "for level in primary:\n",
    "    adult_df[\"education\"].replace(level, \"primary school\", inplace=True)\n",
    "\n",
    "for level in middle:\n",
    "    adult_df[\"education\"].replace(level, \"middle school\", inplace=True)\n",
    "\n",
    "for level in high:\n",
    "    adult_df[\"education\"].replace(level, \"high school\", inplace=True)\n",
    "\n",
    "for level in mbohbo:\n",
    "    adult_df[\"education\"].replace(level, \"Associate's Degree/Diploma\", inplace=True)\n",
    "\n",
    "# print(primary+middle+high+mbohbo)"
   ]
  },
  {
   "cell_type": "markdown",
   "id": "631bd075",
   "metadata": {},
   "source": [
    "New categries:\n",
    "age: continuous.\n",
    "workclass: Private, Self-emp-not-inc, Self-emp-inc, government.\n",
    "fnlwgt: continuous.\n",
    "education: Preschool ['1st-4th', '5th-6th', '7th-8th', '9th', '10th', '11th', '12th', 'HS-grad', 'Assoc-acdm', 'Assoc-voc', 'Some-college', 'Prof-school'] Bachelors, Masters, Doctorate.\n",
    "education-num: continuous.\n",
    "marital-status: Married-civ-spouse, Divorced, Never-married, Separated, Widowed, Married-spouse-absent, Married-AF-spouse.\n",
    "occupation: Tech-support, Craft-repair, Other-service, Sales, Exec-managerial, Prof-specialty, Handlers-cleaners, Machine-op-inspct, Adm-clerical, Farming-fishing, Transport-moving, Priv-house-serv, Protective-serv, Armed-Forces.\n",
    "relationship: Wife, Own-child, Husband, Not-in-family, Other-relative, Unmarried.\n",
    "race: White, Asian-Pac-Islander, Amer-Indian-Eskimo, Other, Black.\n",
    "sex: Female, Male.\n",
    "capital-gain: continuous.\n",
    "capital-loss: continuous.\n",
    "hours-per-week: continuous.\n",
    "native-country: United-States, Cambodia, England, Puerto-Rico, Canada, Germany, Outlying-US(Guam-USVI-etc), India, Japan, Greece, South, China, Cuba, Iran, Honduras, Philippines, Italy, Poland, Jamaica, Vietnam, Mexico, Portugal, Ireland, France, Dominican-Republic, Laos, Ecuador, Taiwan, Haiti, Columbia, Hungary, Guatemala, Nicaragua, Scotland, Thailand, Yugoslavia, El-Salvador, Trinadad&Tobago, Peru, Hong, Holand-Netherlands.\n"
   ]
  },
  {
   "cell_type": "markdown",
   "id": "a1c67628",
   "metadata": {},
   "source": [
    "#maybe we can change income to a boolean where its true if income is greater than 50k(an attempt to simplify data)\n"
   ]
  },
  {
   "cell_type": "code",
   "execution_count": 106,
   "id": "033cc08e",
   "metadata": {},
   "outputs": [],
   "source": [
    "adult_df[\"income\"].replace(\"<=50K\", False, inplace=True)\n",
    "adult_df[\"income\"].replace(\">50K\", True, inplace=True)\n",
    "adult_df.rename(columns={'income':'income greater than 50K'}, inplace=True)"
   ]
  },
  {
   "cell_type": "code",
   "execution_count": 107,
   "id": "e97cbfc1",
   "metadata": {},
   "outputs": [
    {
     "data": {
      "text/html": [
       "<div>\n",
       "<style scoped>\n",
       "    .dataframe tbody tr th:only-of-type {\n",
       "        vertical-align: middle;\n",
       "    }\n",
       "\n",
       "    .dataframe tbody tr th {\n",
       "        vertical-align: top;\n",
       "    }\n",
       "\n",
       "    .dataframe thead th {\n",
       "        text-align: right;\n",
       "    }\n",
       "</style>\n",
       "<table border=\"1\" class=\"dataframe\">\n",
       "  <thead>\n",
       "    <tr style=\"text-align: right;\">\n",
       "      <th></th>\n",
       "      <th>age</th>\n",
       "      <th>work class</th>\n",
       "      <th>final weight</th>\n",
       "      <th>education</th>\n",
       "      <th>education years</th>\n",
       "      <th>marital status</th>\n",
       "      <th>occupation</th>\n",
       "      <th>relationship in family</th>\n",
       "      <th>race</th>\n",
       "      <th>sex</th>\n",
       "      <th>capital gain</th>\n",
       "      <th>capital loss</th>\n",
       "      <th>weekly hours</th>\n",
       "      <th>native country</th>\n",
       "      <th>income greater than 50K</th>\n",
       "    </tr>\n",
       "  </thead>\n",
       "  <tbody>\n",
       "    <tr>\n",
       "      <th>0</th>\n",
       "      <td>39</td>\n",
       "      <td>government</td>\n",
       "      <td>77516</td>\n",
       "      <td>Bachelors</td>\n",
       "      <td>13</td>\n",
       "      <td>Never-married</td>\n",
       "      <td>Adm-clerical</td>\n",
       "      <td>Not-in-family</td>\n",
       "      <td>White</td>\n",
       "      <td>Male</td>\n",
       "      <td>2174</td>\n",
       "      <td>0</td>\n",
       "      <td>40</td>\n",
       "      <td>United-States</td>\n",
       "      <td>False</td>\n",
       "    </tr>\n",
       "    <tr>\n",
       "      <th>1</th>\n",
       "      <td>50</td>\n",
       "      <td>Self-emp-not-inc</td>\n",
       "      <td>83311</td>\n",
       "      <td>Bachelors</td>\n",
       "      <td>13</td>\n",
       "      <td>Married-civ-spouse</td>\n",
       "      <td>Exec-managerial</td>\n",
       "      <td>Husband</td>\n",
       "      <td>White</td>\n",
       "      <td>Male</td>\n",
       "      <td>0</td>\n",
       "      <td>0</td>\n",
       "      <td>13</td>\n",
       "      <td>United-States</td>\n",
       "      <td>False</td>\n",
       "    </tr>\n",
       "    <tr>\n",
       "      <th>2</th>\n",
       "      <td>38</td>\n",
       "      <td>Private</td>\n",
       "      <td>215646</td>\n",
       "      <td>high school</td>\n",
       "      <td>9</td>\n",
       "      <td>Divorced</td>\n",
       "      <td>Handlers-cleaners</td>\n",
       "      <td>Not-in-family</td>\n",
       "      <td>White</td>\n",
       "      <td>Male</td>\n",
       "      <td>0</td>\n",
       "      <td>0</td>\n",
       "      <td>40</td>\n",
       "      <td>United-States</td>\n",
       "      <td>False</td>\n",
       "    </tr>\n",
       "    <tr>\n",
       "      <th>3</th>\n",
       "      <td>53</td>\n",
       "      <td>Private</td>\n",
       "      <td>234721</td>\n",
       "      <td>high school</td>\n",
       "      <td>7</td>\n",
       "      <td>Married-civ-spouse</td>\n",
       "      <td>Handlers-cleaners</td>\n",
       "      <td>Husband</td>\n",
       "      <td>Black</td>\n",
       "      <td>Male</td>\n",
       "      <td>0</td>\n",
       "      <td>0</td>\n",
       "      <td>40</td>\n",
       "      <td>United-States</td>\n",
       "      <td>False</td>\n",
       "    </tr>\n",
       "    <tr>\n",
       "      <th>4</th>\n",
       "      <td>28</td>\n",
       "      <td>Private</td>\n",
       "      <td>338409</td>\n",
       "      <td>Bachelors</td>\n",
       "      <td>13</td>\n",
       "      <td>Married-civ-spouse</td>\n",
       "      <td>Prof-specialty</td>\n",
       "      <td>Wife</td>\n",
       "      <td>Black</td>\n",
       "      <td>Female</td>\n",
       "      <td>0</td>\n",
       "      <td>0</td>\n",
       "      <td>40</td>\n",
       "      <td>Cuba</td>\n",
       "      <td>False</td>\n",
       "    </tr>\n",
       "  </tbody>\n",
       "</table>\n",
       "</div>"
      ],
      "text/plain": [
       "   age        work class  final weight    education  education years  \\\n",
       "0   39        government         77516    Bachelors               13   \n",
       "1   50  Self-emp-not-inc         83311    Bachelors               13   \n",
       "2   38           Private        215646  high school                9   \n",
       "3   53           Private        234721  high school                7   \n",
       "4   28           Private        338409    Bachelors               13   \n",
       "\n",
       "       marital status         occupation relationship in family   race  \\\n",
       "0       Never-married       Adm-clerical          Not-in-family  White   \n",
       "1  Married-civ-spouse    Exec-managerial                Husband  White   \n",
       "2            Divorced  Handlers-cleaners          Not-in-family  White   \n",
       "3  Married-civ-spouse  Handlers-cleaners                Husband  Black   \n",
       "4  Married-civ-spouse     Prof-specialty                   Wife  Black   \n",
       "\n",
       "      sex  capital gain  capital loss  weekly hours native country  \\\n",
       "0    Male          2174             0            40  United-States   \n",
       "1    Male             0             0            13  United-States   \n",
       "2    Male             0             0            40  United-States   \n",
       "3    Male             0             0            40  United-States   \n",
       "4  Female             0             0            40           Cuba   \n",
       "\n",
       "   income greater than 50K  \n",
       "0                    False  \n",
       "1                    False  \n",
       "2                    False  \n",
       "3                    False  \n",
       "4                    False  "
      ]
     },
     "execution_count": 107,
     "metadata": {},
     "output_type": "execute_result"
    }
   ],
   "source": [
    "adult_df.head()"
   ]
  },
  {
   "cell_type": "markdown",
   "id": "8945e893",
   "metadata": {},
   "source": [
    "#convert categories to numbers?\n",
    "\n",
    "#dealing with income class imbalance"
   ]
  },
  {
   "cell_type": "code",
   "execution_count": 108,
   "id": "d72f6019",
   "metadata": {},
   "outputs": [
    {
     "data": {
      "text/html": [
       "<div>\n",
       "<style scoped>\n",
       "    .dataframe tbody tr th:only-of-type {\n",
       "        vertical-align: middle;\n",
       "    }\n",
       "\n",
       "    .dataframe tbody tr th {\n",
       "        vertical-align: top;\n",
       "    }\n",
       "\n",
       "    .dataframe thead th {\n",
       "        text-align: right;\n",
       "    }\n",
       "</style>\n",
       "<table border=\"1\" class=\"dataframe\">\n",
       "  <thead>\n",
       "    <tr style=\"text-align: right;\">\n",
       "      <th></th>\n",
       "      <th>age</th>\n",
       "      <th>work class</th>\n",
       "      <th>final weight</th>\n",
       "      <th>education</th>\n",
       "      <th>education years</th>\n",
       "      <th>marital status</th>\n",
       "      <th>occupation</th>\n",
       "      <th>relationship in family</th>\n",
       "      <th>race</th>\n",
       "      <th>sex</th>\n",
       "      <th>capital gain</th>\n",
       "      <th>capital loss</th>\n",
       "      <th>weekly hours</th>\n",
       "      <th>native country</th>\n",
       "      <th>income greater than 50K</th>\n",
       "    </tr>\n",
       "  </thead>\n",
       "  <tbody>\n",
       "    <tr>\n",
       "      <th>0</th>\n",
       "      <td>0.034521</td>\n",
       "      <td>government</td>\n",
       "      <td>-1.062328</td>\n",
       "      <td>Bachelors</td>\n",
       "      <td>1.128469</td>\n",
       "      <td>Never-married</td>\n",
       "      <td>Adm-clerical</td>\n",
       "      <td>Not-in-family</td>\n",
       "      <td>White</td>\n",
       "      <td>Male</td>\n",
       "      <td>0.142808</td>\n",
       "      <td>-0.218778</td>\n",
       "      <td>-0.078412</td>\n",
       "      <td>United-States</td>\n",
       "      <td>False</td>\n",
       "    </tr>\n",
       "    <tr>\n",
       "      <th>1</th>\n",
       "      <td>0.867054</td>\n",
       "      <td>Self-emp-not-inc</td>\n",
       "      <td>-1.007474</td>\n",
       "      <td>Bachelors</td>\n",
       "      <td>1.128469</td>\n",
       "      <td>Married-civ-spouse</td>\n",
       "      <td>Exec-managerial</td>\n",
       "      <td>Husband</td>\n",
       "      <td>White</td>\n",
       "      <td>Male</td>\n",
       "      <td>-0.146748</td>\n",
       "      <td>-0.218778</td>\n",
       "      <td>-2.327654</td>\n",
       "      <td>United-States</td>\n",
       "      <td>False</td>\n",
       "    </tr>\n",
       "    <tr>\n",
       "      <th>2</th>\n",
       "      <td>-0.041164</td>\n",
       "      <td>Private</td>\n",
       "      <td>0.245173</td>\n",
       "      <td>high school</td>\n",
       "      <td>-0.438306</td>\n",
       "      <td>Divorced</td>\n",
       "      <td>Handlers-cleaners</td>\n",
       "      <td>Not-in-family</td>\n",
       "      <td>White</td>\n",
       "      <td>Male</td>\n",
       "      <td>-0.146748</td>\n",
       "      <td>-0.218778</td>\n",
       "      <td>-0.078412</td>\n",
       "      <td>United-States</td>\n",
       "      <td>False</td>\n",
       "    </tr>\n",
       "    <tr>\n",
       "      <th>3</th>\n",
       "      <td>1.094108</td>\n",
       "      <td>Private</td>\n",
       "      <td>0.425732</td>\n",
       "      <td>high school</td>\n",
       "      <td>-1.221694</td>\n",
       "      <td>Married-civ-spouse</td>\n",
       "      <td>Handlers-cleaners</td>\n",
       "      <td>Husband</td>\n",
       "      <td>Black</td>\n",
       "      <td>Male</td>\n",
       "      <td>-0.146748</td>\n",
       "      <td>-0.218778</td>\n",
       "      <td>-0.078412</td>\n",
       "      <td>United-States</td>\n",
       "      <td>False</td>\n",
       "    </tr>\n",
       "    <tr>\n",
       "      <th>4</th>\n",
       "      <td>-0.798011</td>\n",
       "      <td>Private</td>\n",
       "      <td>1.407214</td>\n",
       "      <td>Bachelors</td>\n",
       "      <td>1.128469</td>\n",
       "      <td>Married-civ-spouse</td>\n",
       "      <td>Prof-specialty</td>\n",
       "      <td>Wife</td>\n",
       "      <td>Black</td>\n",
       "      <td>Female</td>\n",
       "      <td>-0.146748</td>\n",
       "      <td>-0.218778</td>\n",
       "      <td>-0.078412</td>\n",
       "      <td>Cuba</td>\n",
       "      <td>False</td>\n",
       "    </tr>\n",
       "  </tbody>\n",
       "</table>\n",
       "</div>"
      ],
      "text/plain": [
       "        age        work class  final weight    education  education years  \\\n",
       "0  0.034521        government     -1.062328    Bachelors         1.128469   \n",
       "1  0.867054  Self-emp-not-inc     -1.007474    Bachelors         1.128469   \n",
       "2 -0.041164           Private      0.245173  high school        -0.438306   \n",
       "3  1.094108           Private      0.425732  high school        -1.221694   \n",
       "4 -0.798011           Private      1.407214    Bachelors         1.128469   \n",
       "\n",
       "       marital status         occupation relationship in family   race  \\\n",
       "0       Never-married       Adm-clerical          Not-in-family  White   \n",
       "1  Married-civ-spouse    Exec-managerial                Husband  White   \n",
       "2            Divorced  Handlers-cleaners          Not-in-family  White   \n",
       "3  Married-civ-spouse  Handlers-cleaners                Husband  Black   \n",
       "4  Married-civ-spouse     Prof-specialty                   Wife  Black   \n",
       "\n",
       "      sex  capital gain  capital loss  weekly hours native country  \\\n",
       "0    Male      0.142808     -0.218778     -0.078412  United-States   \n",
       "1    Male     -0.146748     -0.218778     -2.327654  United-States   \n",
       "2    Male     -0.146748     -0.218778     -0.078412  United-States   \n",
       "3    Male     -0.146748     -0.218778     -0.078412  United-States   \n",
       "4  Female     -0.146748     -0.218778     -0.078412           Cuba   \n",
       "\n",
       "   income greater than 50K  \n",
       "0                    False  \n",
       "1                    False  \n",
       "2                    False  \n",
       "3                    False  \n",
       "4                    False  "
      ]
     },
     "execution_count": 108,
     "metadata": {},
     "output_type": "execute_result"
    }
   ],
   "source": [
    "from sklearn.preprocessing import StandardScaler\n",
    "sc = StandardScaler()\n",
    "adult_df_numerical = adult_df.select_dtypes(include=['int64', 'float64'])\n",
    "adult_df[adult_df_numerical.columns] = sc.fit_transform(adult_df_numerical) \n",
    "cols = [\"age\",\"work class\",\"final weight\",\"education\",\"education years\",\"marital status\",\"occupation\",\"relationship in family\",\"race\",\"sex\",\"capital gain\",\"capital loss\",\"weekly hours\",\"native country\",\"income greater than 50K\"]\n",
    "# adult_df_numerical = pd.DataFrame(adult_df_numerical)\n",
    "# adult_df_numerical.head()\n",
    "adult_df.head()\n"
   ]
  },
  {
   "cell_type": "markdown",
   "id": "72787eb4",
   "metadata": {},
   "source": [
    "maybe exclude final weight im not sure how much that helps"
   ]
  },
  {
   "cell_type": "markdown",
   "id": "a339528c",
   "metadata": {},
   "source": [
    "Normalize numerical data"
   ]
  },
  {
   "cell_type": "markdown",
   "id": "d9a46e0a",
   "metadata": {},
   "source": [
    "Decision Tree (CART)\n",
    "max depth\n",
    "min sample split"
   ]
  },
  {
   "cell_type": "code",
   "execution_count": 127,
   "id": "8d6b3022",
   "metadata": {},
   "outputs": [],
   "source": [
    "from sklearn.model_selection import RepeatedStratifiedKFold\n",
    "from sklearn.model_selection import cross_val_score\n",
    "from sklearn.tree import DecisionTreeClassifier"
   ]
  },
  {
   "cell_type": "code",
   "execution_count": 134,
   "id": "484b7bc9",
   "metadata": {},
   "outputs": [],
   "source": [
    "def evaluate_model(X, y, model):\n",
    "    # cv = RepeatedStratifiedKFold(n_splits=10, n_repeats=3, random_state=42) , cv=cv\n",
    "    scores = cross_val_score(model, X, y, scoring='accuracy', n_jobs=-1)\n",
    "\n",
    "    return scores"
   ]
  },
  {
   "cell_type": "code",
   "execution_count": 135,
   "id": "6dc30b7b",
   "metadata": {},
   "outputs": [
    {
     "data": {
      "text/plain": [
       "Index(['age', 'work class', 'final weight', 'education', 'education years',\n",
       "       'marital status', 'occupation', 'relationship in family', 'race', 'sex',\n",
       "       'capital gain', 'capital loss', 'weekly hours', 'native country',\n",
       "       'income greater than 50K'],\n",
       "      dtype='object')"
      ]
     },
     "execution_count": 135,
     "metadata": {},
     "output_type": "execute_result"
    }
   ],
   "source": [
    "adult_df.columns"
   ]
  },
  {
   "cell_type": "code",
   "execution_count": 136,
   "id": "650c2906",
   "metadata": {},
   "outputs": [
    {
     "name": "stdout",
     "output_type": "stream",
     "text": [
      "<class 'pandas.core.frame.DataFrame'>\n",
      "(45201, 14)\n",
      "<class 'numpy.ndarray'>\n",
      "(45201, 1)\n"
     ]
    }
   ],
   "source": [
    "X = adult_df[['age', 'work class', 'final weight', 'education', 'education years',\n",
    "       'marital status', 'occupation', 'relationship in family', 'race', 'sex',\n",
    "       'capital gain', 'capital loss', 'weekly hours', 'native country']]\n",
    "y = adult_df[['income greater than 50K']].to_numpy()\n",
    "\n",
    "print(type(X))\n",
    "print(X.shape)\n",
    "print(type(y))\n",
    "print(y.shape)"
   ]
  },
  {
   "cell_type": "code",
   "execution_count": 142,
   "id": "31e26b8c",
   "metadata": {},
   "outputs": [],
   "source": [
    "#encoding\n",
    "# from sklearn.preprocessing import LabelEncoder\n",
    "# from sklearn.preprocessing import OneHotEncoder\n",
    "# from sklearn.preprocessing import MinMaxScaler\n",
    "# steps = [('Categorical', OneHotEncoder(handle_unknown='ignore'), cate_index), ('Numerical', MinMaxScaler(), num_index)]\n",
    "\n",
    "# from sklearn.compose import ColumnTransformer\n",
    "# transformer = ColumnTransformer(steps, verbose=True)\n",
    "# X = transformer.fit_transform(X)\n",
    "\n",
    "# print(type(X))\n",
    "# print(X.shape)"
   ]
  },
  {
   "cell_type": "code",
   "execution_count": 143,
   "id": "8ae7d143",
   "metadata": {},
   "outputs": [
    {
     "name": "stdout",
     "output_type": "stream",
     "text": [
      "(31640, 14)\n",
      "(13561, 14)\n",
      "(31640, 1)\n",
      "(13561, 1)\n"
     ]
    }
   ],
   "source": [
    "from sklearn.model_selection import train_test_split\n",
    "\n",
    "X_train, X_test, y_train, y_test = train_test_split(X, y, test_size=0.3, random_state=42, stratify=y)\n",
    "print(X_train.shape)\n",
    "print(X_test.shape)\n",
    "print(y_train.shape)\n",
    "print(y_test.shape)"
   ]
  },
  {
   "cell_type": "code",
   "execution_count": 145,
   "id": "5072c39f",
   "metadata": {},
   "outputs": [
    {
     "ename": "ValueError",
     "evalue": "could not convert string to float: 'government'",
     "output_type": "error",
     "traceback": [
      "\u001b[0;31m---------------------------------------------------------------------------\u001b[0m",
      "\u001b[0;31mValueError\u001b[0m                                Traceback (most recent call last)",
      "\u001b[0;32m<ipython-input-145-b5691a242e68>\u001b[0m in \u001b[0;36m<module>\u001b[0;34m\u001b[0m\n\u001b[1;32m      1\u001b[0m \u001b[0mtest_model\u001b[0m \u001b[0;34m=\u001b[0m \u001b[0mDecisionTreeClassifier\u001b[0m\u001b[0;34m(\u001b[0m\u001b[0;34m)\u001b[0m\u001b[0;34m\u001b[0m\u001b[0;34m\u001b[0m\u001b[0m\n\u001b[0;32m----> 2\u001b[0;31m \u001b[0mtest_model\u001b[0m\u001b[0;34m.\u001b[0m\u001b[0mfit\u001b[0m\u001b[0;34m(\u001b[0m\u001b[0mX_train\u001b[0m\u001b[0;34m,\u001b[0m\u001b[0my_train\u001b[0m\u001b[0;34m)\u001b[0m\u001b[0;34m\u001b[0m\u001b[0;34m\u001b[0m\u001b[0m\n\u001b[0m\u001b[1;32m      3\u001b[0m \u001b[0mscore\u001b[0m \u001b[0;34m=\u001b[0m \u001b[0mtest_model\u001b[0m\u001b[0;34m.\u001b[0m\u001b[0mscore\u001b[0m\u001b[0;34m(\u001b[0m\u001b[0mX_test\u001b[0m\u001b[0;34m,\u001b[0m\u001b[0my_test\u001b[0m\u001b[0;34m)\u001b[0m\u001b[0;34m\u001b[0m\u001b[0;34m\u001b[0m\u001b[0m\n\u001b[1;32m      4\u001b[0m \u001b[0mprint\u001b[0m\u001b[0;34m(\u001b[0m\u001b[0mscore\u001b[0m\u001b[0;34m)\u001b[0m\u001b[0;34m\u001b[0m\u001b[0;34m\u001b[0m\u001b[0m\n\u001b[1;32m      5\u001b[0m \u001b[0mscores\u001b[0m \u001b[0;34m=\u001b[0m \u001b[0mevaluate_model\u001b[0m\u001b[0;34m(\u001b[0m\u001b[0mX_train\u001b[0m\u001b[0;34m,\u001b[0m \u001b[0my_train\u001b[0m\u001b[0;34m,\u001b[0m \u001b[0mtest_model\u001b[0m\u001b[0;34m)\u001b[0m\u001b[0;34m\u001b[0m\u001b[0;34m\u001b[0m\u001b[0m\n",
      "\u001b[0;32m~/anaconda3/lib/python3.8/site-packages/sklearn/tree/_classes.py\u001b[0m in \u001b[0;36mfit\u001b[0;34m(self, X, y, sample_weight, check_input, X_idx_sorted)\u001b[0m\n\u001b[1;32m    896\u001b[0m         \"\"\"\n\u001b[1;32m    897\u001b[0m \u001b[0;34m\u001b[0m\u001b[0m\n\u001b[0;32m--> 898\u001b[0;31m         super().fit(\n\u001b[0m\u001b[1;32m    899\u001b[0m             \u001b[0mX\u001b[0m\u001b[0;34m,\u001b[0m \u001b[0my\u001b[0m\u001b[0;34m,\u001b[0m\u001b[0;34m\u001b[0m\u001b[0;34m\u001b[0m\u001b[0m\n\u001b[1;32m    900\u001b[0m             \u001b[0msample_weight\u001b[0m\u001b[0;34m=\u001b[0m\u001b[0msample_weight\u001b[0m\u001b[0;34m,\u001b[0m\u001b[0;34m\u001b[0m\u001b[0;34m\u001b[0m\u001b[0m\n",
      "\u001b[0;32m~/anaconda3/lib/python3.8/site-packages/sklearn/tree/_classes.py\u001b[0m in \u001b[0;36mfit\u001b[0;34m(self, X, y, sample_weight, check_input, X_idx_sorted)\u001b[0m\n\u001b[1;32m    154\u001b[0m             \u001b[0mcheck_X_params\u001b[0m \u001b[0;34m=\u001b[0m \u001b[0mdict\u001b[0m\u001b[0;34m(\u001b[0m\u001b[0mdtype\u001b[0m\u001b[0;34m=\u001b[0m\u001b[0mDTYPE\u001b[0m\u001b[0;34m,\u001b[0m \u001b[0maccept_sparse\u001b[0m\u001b[0;34m=\u001b[0m\u001b[0;34m\"csc\"\u001b[0m\u001b[0;34m)\u001b[0m\u001b[0;34m\u001b[0m\u001b[0;34m\u001b[0m\u001b[0m\n\u001b[1;32m    155\u001b[0m             \u001b[0mcheck_y_params\u001b[0m \u001b[0;34m=\u001b[0m \u001b[0mdict\u001b[0m\u001b[0;34m(\u001b[0m\u001b[0mensure_2d\u001b[0m\u001b[0;34m=\u001b[0m\u001b[0;32mFalse\u001b[0m\u001b[0;34m,\u001b[0m \u001b[0mdtype\u001b[0m\u001b[0;34m=\u001b[0m\u001b[0;32mNone\u001b[0m\u001b[0;34m)\u001b[0m\u001b[0;34m\u001b[0m\u001b[0;34m\u001b[0m\u001b[0m\n\u001b[0;32m--> 156\u001b[0;31m             X, y = self._validate_data(X, y,\n\u001b[0m\u001b[1;32m    157\u001b[0m                                        validate_separately=(check_X_params,\n\u001b[1;32m    158\u001b[0m                                                             check_y_params))\n",
      "\u001b[0;32m~/anaconda3/lib/python3.8/site-packages/sklearn/base.py\u001b[0m in \u001b[0;36m_validate_data\u001b[0;34m(self, X, y, reset, validate_separately, **check_params)\u001b[0m\n\u001b[1;32m    428\u001b[0m                 \u001b[0;31m# :(\u001b[0m\u001b[0;34m\u001b[0m\u001b[0;34m\u001b[0m\u001b[0;34m\u001b[0m\u001b[0m\n\u001b[1;32m    429\u001b[0m                 \u001b[0mcheck_X_params\u001b[0m\u001b[0;34m,\u001b[0m \u001b[0mcheck_y_params\u001b[0m \u001b[0;34m=\u001b[0m \u001b[0mvalidate_separately\u001b[0m\u001b[0;34m\u001b[0m\u001b[0;34m\u001b[0m\u001b[0m\n\u001b[0;32m--> 430\u001b[0;31m                 \u001b[0mX\u001b[0m \u001b[0;34m=\u001b[0m \u001b[0mcheck_array\u001b[0m\u001b[0;34m(\u001b[0m\u001b[0mX\u001b[0m\u001b[0;34m,\u001b[0m \u001b[0;34m**\u001b[0m\u001b[0mcheck_X_params\u001b[0m\u001b[0;34m)\u001b[0m\u001b[0;34m\u001b[0m\u001b[0;34m\u001b[0m\u001b[0m\n\u001b[0m\u001b[1;32m    431\u001b[0m                 \u001b[0my\u001b[0m \u001b[0;34m=\u001b[0m \u001b[0mcheck_array\u001b[0m\u001b[0;34m(\u001b[0m\u001b[0my\u001b[0m\u001b[0;34m,\u001b[0m \u001b[0;34m**\u001b[0m\u001b[0mcheck_y_params\u001b[0m\u001b[0;34m)\u001b[0m\u001b[0;34m\u001b[0m\u001b[0;34m\u001b[0m\u001b[0m\n\u001b[1;32m    432\u001b[0m             \u001b[0;32melse\u001b[0m\u001b[0;34m:\u001b[0m\u001b[0;34m\u001b[0m\u001b[0;34m\u001b[0m\u001b[0m\n",
      "\u001b[0;32m~/anaconda3/lib/python3.8/site-packages/sklearn/utils/validation.py\u001b[0m in \u001b[0;36minner_f\u001b[0;34m(*args, **kwargs)\u001b[0m\n\u001b[1;32m     61\u001b[0m             \u001b[0mextra_args\u001b[0m \u001b[0;34m=\u001b[0m \u001b[0mlen\u001b[0m\u001b[0;34m(\u001b[0m\u001b[0margs\u001b[0m\u001b[0;34m)\u001b[0m \u001b[0;34m-\u001b[0m \u001b[0mlen\u001b[0m\u001b[0;34m(\u001b[0m\u001b[0mall_args\u001b[0m\u001b[0;34m)\u001b[0m\u001b[0;34m\u001b[0m\u001b[0;34m\u001b[0m\u001b[0m\n\u001b[1;32m     62\u001b[0m             \u001b[0;32mif\u001b[0m \u001b[0mextra_args\u001b[0m \u001b[0;34m<=\u001b[0m \u001b[0;36m0\u001b[0m\u001b[0;34m:\u001b[0m\u001b[0;34m\u001b[0m\u001b[0;34m\u001b[0m\u001b[0m\n\u001b[0;32m---> 63\u001b[0;31m                 \u001b[0;32mreturn\u001b[0m \u001b[0mf\u001b[0m\u001b[0;34m(\u001b[0m\u001b[0;34m*\u001b[0m\u001b[0margs\u001b[0m\u001b[0;34m,\u001b[0m \u001b[0;34m**\u001b[0m\u001b[0mkwargs\u001b[0m\u001b[0;34m)\u001b[0m\u001b[0;34m\u001b[0m\u001b[0;34m\u001b[0m\u001b[0m\n\u001b[0m\u001b[1;32m     64\u001b[0m \u001b[0;34m\u001b[0m\u001b[0m\n\u001b[1;32m     65\u001b[0m             \u001b[0;31m# extra_args > 0\u001b[0m\u001b[0;34m\u001b[0m\u001b[0;34m\u001b[0m\u001b[0;34m\u001b[0m\u001b[0m\n",
      "\u001b[0;32m~/anaconda3/lib/python3.8/site-packages/sklearn/utils/validation.py\u001b[0m in \u001b[0;36mcheck_array\u001b[0;34m(array, accept_sparse, accept_large_sparse, dtype, order, copy, force_all_finite, ensure_2d, allow_nd, ensure_min_samples, ensure_min_features, estimator)\u001b[0m\n\u001b[1;32m    614\u001b[0m                     \u001b[0marray\u001b[0m \u001b[0;34m=\u001b[0m \u001b[0marray\u001b[0m\u001b[0;34m.\u001b[0m\u001b[0mastype\u001b[0m\u001b[0;34m(\u001b[0m\u001b[0mdtype\u001b[0m\u001b[0;34m,\u001b[0m \u001b[0mcasting\u001b[0m\u001b[0;34m=\u001b[0m\u001b[0;34m\"unsafe\"\u001b[0m\u001b[0;34m,\u001b[0m \u001b[0mcopy\u001b[0m\u001b[0;34m=\u001b[0m\u001b[0;32mFalse\u001b[0m\u001b[0;34m)\u001b[0m\u001b[0;34m\u001b[0m\u001b[0;34m\u001b[0m\u001b[0m\n\u001b[1;32m    615\u001b[0m                 \u001b[0;32melse\u001b[0m\u001b[0;34m:\u001b[0m\u001b[0;34m\u001b[0m\u001b[0;34m\u001b[0m\u001b[0m\n\u001b[0;32m--> 616\u001b[0;31m                     \u001b[0marray\u001b[0m \u001b[0;34m=\u001b[0m \u001b[0mnp\u001b[0m\u001b[0;34m.\u001b[0m\u001b[0masarray\u001b[0m\u001b[0;34m(\u001b[0m\u001b[0marray\u001b[0m\u001b[0;34m,\u001b[0m \u001b[0morder\u001b[0m\u001b[0;34m=\u001b[0m\u001b[0morder\u001b[0m\u001b[0;34m,\u001b[0m \u001b[0mdtype\u001b[0m\u001b[0;34m=\u001b[0m\u001b[0mdtype\u001b[0m\u001b[0;34m)\u001b[0m\u001b[0;34m\u001b[0m\u001b[0;34m\u001b[0m\u001b[0m\n\u001b[0m\u001b[1;32m    617\u001b[0m             \u001b[0;32mexcept\u001b[0m \u001b[0mComplexWarning\u001b[0m \u001b[0;32mas\u001b[0m \u001b[0mcomplex_warning\u001b[0m\u001b[0;34m:\u001b[0m\u001b[0;34m\u001b[0m\u001b[0;34m\u001b[0m\u001b[0m\n\u001b[1;32m    618\u001b[0m                 raise ValueError(\"Complex data not supported\\n\"\n",
      "\u001b[0;32m~/anaconda3/lib/python3.8/site-packages/pandas/core/generic.py\u001b[0m in \u001b[0;36m__array__\u001b[0;34m(self, dtype)\u001b[0m\n\u001b[1;32m   1897\u001b[0m \u001b[0;34m\u001b[0m\u001b[0m\n\u001b[1;32m   1898\u001b[0m     \u001b[0;32mdef\u001b[0m \u001b[0m__array__\u001b[0m\u001b[0;34m(\u001b[0m\u001b[0mself\u001b[0m\u001b[0;34m,\u001b[0m \u001b[0mdtype\u001b[0m\u001b[0;34m=\u001b[0m\u001b[0;32mNone\u001b[0m\u001b[0;34m)\u001b[0m \u001b[0;34m->\u001b[0m \u001b[0mnp\u001b[0m\u001b[0;34m.\u001b[0m\u001b[0mndarray\u001b[0m\u001b[0;34m:\u001b[0m\u001b[0;34m\u001b[0m\u001b[0;34m\u001b[0m\u001b[0m\n\u001b[0;32m-> 1899\u001b[0;31m         \u001b[0;32mreturn\u001b[0m \u001b[0mnp\u001b[0m\u001b[0;34m.\u001b[0m\u001b[0masarray\u001b[0m\u001b[0;34m(\u001b[0m\u001b[0mself\u001b[0m\u001b[0;34m.\u001b[0m\u001b[0m_values\u001b[0m\u001b[0;34m,\u001b[0m \u001b[0mdtype\u001b[0m\u001b[0;34m=\u001b[0m\u001b[0mdtype\u001b[0m\u001b[0;34m)\u001b[0m\u001b[0;34m\u001b[0m\u001b[0;34m\u001b[0m\u001b[0m\n\u001b[0m\u001b[1;32m   1900\u001b[0m \u001b[0;34m\u001b[0m\u001b[0m\n\u001b[1;32m   1901\u001b[0m     def __array_wrap__(\n",
      "\u001b[0;31mValueError\u001b[0m: could not convert string to float: 'government'"
     ]
    }
   ],
   "source": [
    "test_model = DecisionTreeClassifier()\n",
    "test_model.fit(X_train,y_train)\n",
    "score = test_model.score(X_test,y_test)\n",
    "print(score)\n",
    "#print(f\"The CART model average accuracy is: {(np.mean(scores)*100):.2f}%, with Standard Deviation: {(np.std(scores)*100):.2f}.\")"
   ]
  },
  {
   "cell_type": "markdown",
   "metadata": {},
   "source": [
    "k means/svm"
   ]
  },
  {
   "cell_type": "code",
   "execution_count": null,
   "id": "cab2c597",
   "metadata": {},
   "outputs": [],
   "source": []
  }
 ],
 "metadata": {
  "interpreter": {
   "hash": "14f002deae3df2fee78b17f13b81e24699236e1596e6c91f9c040a9f4a3b66e0"
  },
  "kernelspec": {
   "display_name": "Python 3.8.8 64-bit ('base': conda)",
   "language": "python",
   "name": "python3"
  },
  "language_info": {
   "codemirror_mode": {
    "name": "ipython",
    "version": 3
   },
   "file_extension": ".py",
   "mimetype": "text/x-python",
   "name": "python",
   "nbconvert_exporter": "python",
   "pygments_lexer": "ipython3",
   "version": "3.8.8"
  }
 },
 "nbformat": 4,
 "nbformat_minor": 5
}
